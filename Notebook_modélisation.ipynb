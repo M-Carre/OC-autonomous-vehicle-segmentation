{
  "nbformat": 4,
  "nbformat_minor": 0,
  "metadata": {
    "colab": {
      "provenance": [],
      "mount_file_id": "1pxAzU8Nw9j2uOJyD5Ak23RP0Yswybf5b",
      "authorship_tag": "ABX9TyNYg46KRDnULA4CsK/+d3td"
    },
    "kernelspec": {
      "name": "python3",
      "display_name": "Python 3"
    },
    "language_info": {
      "name": "python"
    }
  },
  "cells": [
    {
      "cell_type": "code",
      "execution_count": 3,
      "metadata": {
        "id": "JX-d_ls1pGbp"
      },
      "outputs": [],
      "source": [
        "# Cellule d'installation des bibliothèques\n",
        "!pip install tensorflow opencv-python-headless matplotlib numpy scikit-learn -q\n",
        "!pip install mlflow -q"
      ]
    },
    {
      "cell_type": "code",
      "source": [
        "# Accéder au secret\n",
        "from google.colab import userdata\n",
        "import os\n",
        "\n",
        "GITHUB_TOKEN = userdata.get('GITHUB_TOKEN') # Récupérez le NOUVEAU token que vous allez créer\n",
        "GITHUB_USER = 'M-Carre'\n",
        "GITHUB_REPO_NAME = 'OC-autonomous-vehicle-segmentation'\n",
        "CLONE_DIR = f\"/content/{GITHUB_REPO_NAME}\"\n",
        "\n",
        "# Construire l'URL de clonage\n",
        "clone_url = f\"https://{GITHUB_TOKEN}@github.com/{GITHUB_USER}/{GITHUB_REPO_NAME}.git\"\n",
        "\n",
        "# Exécuter la commande git clone\n",
        "# os.system() est parfois plus propre pour ça que ! avec f-strings complexes\n",
        "os.system(f\"git clone {clone_url} {CLONE_DIR}\")\n",
        "\n",
        "# Vérifier\n",
        "if os.path.exists(CLONE_DIR):\n",
        "    %cd {CLONE_DIR}\n",
        "    !ls\n",
        "    print(f\"Dépôt cloné avec succès dans {CLONE_DIR}\")\n",
        "else:\n",
        "    print(f\"Échec du clonage du dépôt dans {CLONE_DIR}\")"
      ],
      "metadata": {
        "colab": {
          "base_uri": "https://localhost:8080/"
        },
        "id": "iFXb4-OP7if9",
        "outputId": "af40e737-6624-4a67-c873-30ffc3f156cf"
      },
      "execution_count": 1,
      "outputs": [
        {
          "output_type": "stream",
          "name": "stdout",
          "text": [
            "/content/OC-autonomous-vehicle-segmentation\n",
            "README.md\n",
            "Dépôt cloné avec succès dans /content/OC-autonomous-vehicle-segmentation\n"
          ]
        }
      ]
    }
  ]
}